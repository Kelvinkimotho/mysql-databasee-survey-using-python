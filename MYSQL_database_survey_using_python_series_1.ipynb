{
 "cells": [
  {
   "cell_type": "code",
   "execution_count": 1,
   "id": "26e3d651",
   "metadata": {},
   "outputs": [
    {
     "name": "stdout",
     "output_type": "stream",
     "text": [
      "<mysql.connector.connection_cext.CMySQLConnection object at 0x00000150853E1FD0>\n"
     ]
    }
   ],
   "source": [
    "#importing connector module\n",
    "\n",
    "import mysql.connector\n",
    "\n",
    "#connecting to one of my databases\n",
    "\n",
    "mydb=mysql.connector.connect(\n",
    "    host=\"127.0.0.1\",\n",
    "    user=\"root\",\n",
    "    database=\"soko\"\n",
    ")\n",
    "\n",
    "#Check whether connection is succesfull\n",
    "\n",
    "print(mydb)"
   ]
  },
  {
   "cell_type": "code",
   "execution_count": 9,
   "id": "c2b7ead6",
   "metadata": {},
   "outputs": [
    {
     "name": "stdout",
     "output_type": "stream",
     "text": [
      "Here are all the tables in the selected  databases:\n",
      "\n",
      "address\n",
      "agent\n",
      "category\n",
      "customer\n",
      "item\n",
      "orders\n",
      "sales\n",
      "supplier\n"
     ]
    }
   ],
   "source": [
    "#Let's create the cursor\n",
    "\n",
    "mycursor=mydb.cursor()\n",
    "\n",
    "#let's query the database for tables\n",
    "\n",
    "sql=\"show tables\"\n",
    "\n",
    "#executing the query\n",
    "\n",
    "mycursor.execute(sql)\n",
    "#fetching the tables\n",
    "#a list of tables is returned\n",
    "tables=mycursor.fetchall()\n",
    "\n",
    "#looping through the list of tuples where each table is a tuple and print each table\n",
    "print(\"Here are all the tables in the selected  databases:\\n\")\n",
    "for table in tables:\n",
    "    for name in table:\n",
    "         print(name)\n",
    "    "
   ]
  },
  {
   "cell_type": "code",
   "execution_count": 16,
   "id": "156720c6",
   "metadata": {},
   "outputs": [
    {
     "name": "stdout",
     "output_type": "stream",
     "text": [
      "Enter table name..\n",
      "customer\n",
      "(1, 'kelvin', 'Rank', 'Kelvin@gmail.com', '+254798582467', 1, '')\n",
      "(2, 'steve', 'Harvey', 'steve@gmail.com', '+2546578907', 3, '')\n",
      "(3, 'peter', 'druly', 'peter@gmail.com', '+71 456-234-789', 3, '')\n",
      "(4, 'jane', 'wangeci', 'Jane@gmail.com', '+71 456-234-000', 4, '')\n",
      "(5, 'Mary', 'wangeci', 'Mary@gmail.com', '+71 406-987-000', 5, '')\n",
      "(6, 'ezekiel', 'Njue', 'Ezekiel@gmail.com', '+71 234-987-678', 1, '')\n",
      "(7, 'Grace', 'Njue', 'grace@gmail.com', '+71 200-987-555', 1, '')\n",
      "(10, 'junet', 'mohamed', 'junet@gmail.com', '+254 567-345-678', 3, 'junet123')\n",
      "(11, 'peter', 'maina', 'peter@gmail.com', '4567893567890', None, 'ghjljhjkl;lk')\n",
      "(12, 'Mercy', 'M', 'mercyM@gmail.com', '0099876', None, '55555')\n"
     ]
    }
   ],
   "source": [
    "#we can now fetch data from any of the tables\n",
    "#prompting the user to enter name of the table to select from \n",
    "\n",
    "table_name=input(\"Enter table name..\\n\")\n",
    "\n",
    "#query data from the  {table_name} table\n",
    "\n",
    "sql=f\"select * from {table_name}\"\n",
    "\n",
    "#executing our query\n",
    "\n",
    "mycursor.execute(sql)\n",
    "\n",
    "#fetching data \n",
    "\n",
    "records=mycursor.fetchall()\n",
    "\n",
    "#data is returned as a list of turples\n",
    "#looping through the list and print each turple as a row\n",
    "\n",
    "for record in records:\n",
    "    print(record)\n"
   ]
  },
  {
   "cell_type": "code",
   "execution_count": 18,
   "id": "b315fdcd",
   "metadata": {},
   "outputs": [
    {
     "name": "stdout",
     "output_type": "stream",
     "text": [
      "('Hp probook 4330s', 30000, 'Microsoft', 'microsoft@gmail.tech', '+71 200-353-777')\n",
      "('spider man scare crow', 5400, 'Amazon', 'amazon@yahoo..com', '+71 234-567-890')\n",
      "('mountain bike sport', 21000, 'Alibaba', 'Alibaba@yahoo..com', '+71 004-500-890')\n",
      "('infinix hot 9 play', 12500, 'Microsoft', 'microsoft@gmail.tech', '+71 200-353-777')\n"
     ]
    }
   ],
   "source": [
    "#we  can customize our queries as we wish eg performing joins on tables \n",
    "#for example let's perform a join between item and supplier table and return item_name,price,supplier_name,supplier_email,supplier_phone\n",
    "\n",
    "\n",
    "sql=\"select name,price,supplier_name,email,phone from item join supplier on item.supplier_id=supplier.supplier_id\"\n",
    "mycursor.execute(sql)\n",
    "\n",
    "records=mycursor.fetchall()\n",
    "\n",
    "for record in records:\n",
    "    print(record)"
   ]
  },
  {
   "cell_type": "code",
   "execution_count": 22,
   "id": "f7763192",
   "metadata": {},
   "outputs": [
    {
     "name": "stdout",
     "output_type": "stream",
     "text": [
      "enter city name...\n",
      "dodoma\n"
     ]
    }
   ],
   "source": [
    "#adding more records to a table\n",
    "#let's add another address into the address table\n",
    "#columns are address_id and city but address id is set to auto_increment we will only pass the city column \n",
    "\n",
    "#prompt the user to enter a city he/she is familiar with\n",
    "\n",
    "city_name=input(\"enter city name...\\n\")\n",
    "\n",
    "sql=f\"insert into address(city) values ('{city_name}')\"\n",
    "mycursor.execute(sql)\n",
    "mydb.commit()\n",
    "\n"
   ]
  },
  {
   "cell_type": "code",
   "execution_count": 23,
   "id": "b7518dad",
   "metadata": {},
   "outputs": [
    {
     "name": "stdout",
     "output_type": "stream",
     "text": [
      "(1, 'Texas')\n",
      "(2, 'California')\n",
      "(3, 'Dallas')\n",
      "(4, 'Seatle')\n",
      "(5, 'minersorta')\n",
      "(6, 'Miami')\n",
      "(7, 'kisii')\n",
      "(8, 'kisii')\n",
      "(9, 'dodoma')\n"
     ]
    }
   ],
   "source": [
    "#let's see whether the new record hass been added\n",
    "sql=\"select * from address\"\n",
    "mycursor.execute(sql)\n",
    "records=mycursor.fetchall()\n",
    "for record in records:\n",
    "    print(record)"
   ]
  },
  {
   "cell_type": "code",
   "execution_count": null,
   "id": "19b2f26d",
   "metadata": {},
   "outputs": [],
   "source": [
    "#The record was added succesfully!!!!"
   ]
  },
  {
   "cell_type": "code",
   "execution_count": 24,
   "id": "d9924f98",
   "metadata": {},
   "outputs": [],
   "source": [
    "##\n",
    "##\n",
    "##\n",
    "## MYSQL survey to be continued !!"
   ]
  }
 ],
 "metadata": {
  "kernelspec": {
   "display_name": "Python 3 (ipykernel)",
   "language": "python",
   "name": "python3"
  },
  "language_info": {
   "codemirror_mode": {
    "name": "ipython",
    "version": 3
   },
   "file_extension": ".py",
   "mimetype": "text/x-python",
   "name": "python",
   "nbconvert_exporter": "python",
   "pygments_lexer": "ipython3",
   "version": "3.11.0"
  }
 },
 "nbformat": 4,
 "nbformat_minor": 5
}
